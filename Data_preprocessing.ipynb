{
  "nbformat": 4,
  "nbformat_minor": 0,
  "metadata": {
    "colab": {
      "provenance": [],
      "authorship_tag": "ABX9TyNIKWdkd0VaRxFXXRXIBbMz",
      "include_colab_link": true
    },
    "kernelspec": {
      "name": "python3",
      "display_name": "Python 3"
    },
    "language_info": {
      "name": "python"
    }
  },
  "cells": [
    {
      "cell_type": "markdown",
      "metadata": {
        "id": "view-in-github",
        "colab_type": "text"
      },
      "source": [
        "<a href=\"https://colab.research.google.com/github/HImaya24/fdm/blob/main/Data_preprocessing.ipynb\" target=\"_parent\"><img src=\"https://colab.research.google.com/assets/colab-badge.svg\" alt=\"Open In Colab\"/></a>"
      ]
    },
    {
      "cell_type": "markdown",
      "source": [
        "## Data Preprocessing Techniques"
      ],
      "metadata": {
        "id": "NKrJfMMvu1cH"
      }
    },
    {
      "cell_type": "markdown",
      "source": [
        "**Technique 1 - Handling Missing Values**"
      ],
      "metadata": {
        "id": "X8kcZzDtuVkQ"
      }
    },
    {
      "cell_type": "code",
      "source": [
        "import pandas as pd\n",
        "from sklearn.impute import SimpleImputer\n",
        "\n",
        "# Load Titanic dataset from uploaded CSV\n",
        "titanic = pd.read_csv('Titanic Dataset.csv')\n",
        "\n",
        "# Check missing values\n",
        "print(titanic.isnull().sum())\n",
        "\n",
        "# Handle missing values in Age using mean\n",
        "imputer = SimpleImputer(strategy='mean')\n",
        "titanic['age'] = imputer.fit_transform(titanic[['age']])\n",
        "\n",
        "# Show first 10 Ages after imputation\n",
        "print(titanic['age'].head(10))\n"
      ],
      "metadata": {
        "colab": {
          "base_uri": "https://localhost:8080/"
        },
        "id": "SLfzQyMFtgXi",
        "outputId": "5dd24092-90bc-436d-d6c7-454c8e165654"
      },
      "execution_count": null,
      "outputs": [
        {
          "output_type": "stream",
          "name": "stdout",
          "text": [
            "pclass          0\n",
            "survived        0\n",
            "name            0\n",
            "sex             0\n",
            "age           263\n",
            "sibsp           0\n",
            "parch           0\n",
            "ticket          0\n",
            "fare            1\n",
            "cabin        1014\n",
            "embarked        2\n",
            "boat          823\n",
            "body         1188\n",
            "home.dest     564\n",
            "dtype: int64\n",
            "0    29.00\n",
            "1     0.92\n",
            "2     2.00\n",
            "3    30.00\n",
            "4    25.00\n",
            "5    48.00\n",
            "6    63.00\n",
            "7    39.00\n",
            "8    53.00\n",
            "9    71.00\n",
            "Name: age, dtype: float64\n"
          ]
        }
      ]
    },
    {
      "cell_type": "markdown",
      "source": [
        "**Technique 2 - Binning (Discretization)**"
      ],
      "metadata": {
        "id": "519uR1s6ur16"
      }
    },
    {
      "cell_type": "code",
      "source": [
        "# Define bins and labels\n",
        "bins = [0, 12, 19, 35, 60, 100]\n",
        "labels = ['Child', 'Teen', 'Young Adult', 'Adult', 'Senior']\n",
        "\n",
        "# Apply binning on Age\n",
        "titanic['ageGroup'] = pd.cut(titanic['age'], bins=bins, labels=labels)\n",
        "\n",
        "# Display first 15 rows of Age and Age Group\n",
        "print(titanic[['age', 'ageGroup']].head(15))\n"
      ],
      "metadata": {
        "colab": {
          "base_uri": "https://localhost:8080/"
        },
        "id": "aHGl61iQuAhi",
        "outputId": "126857fd-318e-42c2-c657-95fc752233da"
      },
      "execution_count": null,
      "outputs": [
        {
          "output_type": "stream",
          "name": "stdout",
          "text": [
            "      age     ageGroup\n",
            "0   29.00  Young Adult\n",
            "1    0.92        Child\n",
            "2    2.00        Child\n",
            "3   30.00  Young Adult\n",
            "4   25.00  Young Adult\n",
            "5   48.00        Adult\n",
            "6   63.00       Senior\n",
            "7   39.00        Adult\n",
            "8   53.00        Adult\n",
            "9   71.00       Senior\n",
            "10  47.00        Adult\n",
            "11  18.00         Teen\n",
            "12  24.00  Young Adult\n",
            "13  26.00  Young Adult\n",
            "14  80.00       Senior\n"
          ]
        }
      ]
    },
    {
      "cell_type": "markdown",
      "source": [
        "**Technique 3 - Feature Scaling / Normalization (Fare)**"
      ],
      "metadata": {
        "id": "yjGGs2tJ1Z2G"
      }
    },
    {
      "cell_type": "code",
      "source": [
        "# Import libraries\n",
        "import matplotlib.pyplot as plt\n",
        "import seaborn as sns\n",
        "from sklearn.preprocessing import MinMaxScaler\n",
        "import pandas as pd\n",
        "\n",
        "# Load dataset\n",
        "titanic = pd.read_csv(\"Titanic Dataset.csv\")\n",
        "\n",
        "# Handle missing values in 'fare' if any\n",
        "titanic['fare'].fillna(titanic['fare'].mean(), inplace=True)\n",
        "\n",
        "# Feature Scaling\n",
        "scaler = MinMaxScaler()\n",
        "titanic['fare_scaled'] = scaler.fit_transform(titanic[['fare']])\n",
        "\n",
        "# Plot side-by-side histograms\n",
        "plt.figure(figsize=(10,4))\n",
        "\n",
        "# Original fare\n",
        "plt.subplot(1,2,1)\n",
        "sns.histplot(titanic['fare'], bins=30, color='orange')\n",
        "plt.title('Original Fare')\n",
        "\n",
        "# Scaled fare\n",
        "plt.subplot(1,2,2)\n",
        "sns.histplot(titanic['fare_scaled'], bins=30, color='green')\n",
        "plt.title('Scaled Fare (0-1)')\n",
        "\n",
        "plt.tight_layout()\n",
        "plt.show()\n"
      ],
      "metadata": {
        "colab": {
          "base_uri": "https://localhost:8080/",
          "height": 549
        },
        "id": "MXAQTZ-4zWxR",
        "outputId": "fb29dcb6-844a-4416-ad08-cdb346e22bcb"
      },
      "execution_count": 9,
      "outputs": [
        {
          "output_type": "stream",
          "name": "stderr",
          "text": [
            "/tmp/ipython-input-1569094816.py:11: FutureWarning: A value is trying to be set on a copy of a DataFrame or Series through chained assignment using an inplace method.\n",
            "The behavior will change in pandas 3.0. This inplace method will never work because the intermediate object on which we are setting values always behaves as a copy.\n",
            "\n",
            "For example, when doing 'df[col].method(value, inplace=True)', try using 'df.method({col: value}, inplace=True)' or df[col] = df[col].method(value) instead, to perform the operation inplace on the original object.\n",
            "\n",
            "\n",
            "  titanic['fare'].fillna(titanic['fare'].mean(), inplace=True)\n"
          ]
        },
        {
          "output_type": "display_data",
          "data": {
            "text/plain": [
              "<Figure size 1000x400 with 2 Axes>"
            ],
            "image/png": "[encoded data removed]"
          },
          "metadata": {}
        }
      ]
    }
  ]
}